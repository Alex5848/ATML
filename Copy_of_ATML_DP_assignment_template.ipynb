{
 "cells": [
  {
   "cell_type": "markdown",
   "metadata": {
    "id": "0gptEv_UkLPf"
   },
   "source": [
    "# Code template for hand-in on reconstruction attacks.\n",
    "\n",
    "Advanced Topics in Machine Learning, U. Copenhagen, fall 2024\n",
    "\n",
    "Created by Rasmus Pagh with minor edits by Thomas Christensen\n",
    "\n",
    "Queries on a hidden dataset x from {-1,+1}^100 can be made via the query method below\n",
    "which calls a web API that allows dot product queries with vectors in {-1,+1}^100.\n",
    "To protect data, Laplace noise is added to responses. Using the techniques you have\n",
    "seen in the lecture it is possible to partially reconstruct the dataset using 200 queries.\n",
    "To make sure that you get a unique challenge, choose any unique string as your challenge\n",
    "identifier. The web API will keep track of the number of queries made for each identifier."
   ]
  },
  {
   "cell_type": "markdown",
   "metadata": {
    "id": "dyLpL0gdnquz"
   },
   "source": [
    "# Support function for querying the web API"
   ]
  },
  {
   "cell_type": "code",
   "execution_count": 1,
   "metadata": {
    "id": "L1Mb8xGZkTPO"
   },
   "outputs": [],
   "source": [
    "import numpy as np\n",
    "import requests as rq\n",
    "\n",
    "# Retrieve answer to challenge for a given query\n",
    "def query(challenge_id, query_vector, submit=False):\n",
    "    # Only alphanumeric challenge_id and vextor entries in {-1,+1} are allowed:\n",
    "    assert(challenge_id.isalnum())\n",
    "    assert(np.max(np.minimum(np.abs(query_vector-1),np.abs(query_vector+1)))==0)\n",
    "\n",
    "    # if query array is 1d, make it 2d\n",
    "    if query_vector.ndim == 1:\n",
    "        query_vector = query_vector.reshape(1,-1)\n",
    "\n",
    "    payload = { 'challengeid': challenge_id, 'submit': submit,\n",
    "                'query': str(query_vector.tolist()) }\n",
    "    response = rq.post(\"https://baconbreaker.pythonanywhere.com/query\", data = payload).json()\n",
    "    if submit == False:\n",
    "        return np.array(eval(response['result']))\n",
    "    else:\n",
    "        return response['result']"
   ]
  },
  {
   "cell_type": "markdown",
   "metadata": {
    "id": "mgh9MtPmnyEl"
   },
   "source": [
    "# Making random queries to the API"
   ]
  },
  {
   "cell_type": "code",
   "execution_count": 3,
   "metadata": {
    "colab": {
     "base_uri": "https://localhost:8080/"
    },
    "id": "rACAhWmE9zkq",
    "outputId": "52e8c823-fd26-4753-b84d-2caacabf06ed"
   },
   "outputs": [
    {
     "name": "stdout",
     "output_type": "stream",
     "text": [
      "[-19.  -7.  -7.  -7. -23. -17. -23.  -3.  -5. -13.  -3.  -1. -19. -17.\n",
      "  -9. -13. -15.   5. -11.  -5.   9. -11.  -5. -19. -17. -21.   7.   5.\n",
      "  -3. -17. -27.  -7. -15.  -5. -15.  -5.   3. -17.  13. -11.  -7.  15.\n",
      " -13.  -5. -15.  -1.  -1. -13. -13.  -7.  -5. -15.  -1. -19.  -7.  -7.\n",
      "   1. -15. -11.  23.  -5.  -7. -17. -17. -13.  -5.  -1.  -5.   9.   5.\n",
      "  -3. -11.  -5.  11. -21.  -5. -11.  -1.   5. -19. -13.   5.   5. -27.\n",
      " -15.  -5.   1. -13.  -5.   7. -13.   1. -11.   5.   3. -15.  -7. -17.\n",
      " -19. -15.   1. -29.   7.   7.  -1. -19.  -9.  -5.   1. -21.  11.   3.\n",
      "  -5.  -9. -11.  -9. -21.  -1. -13. -11. -21.   3. -15.   3. -19.  -5.\n",
      "  -1. -11.  -3.   1.   1. -17. -19. -21.  -7.  -9. -11. -31.   5.  -3.\n",
      " -11.  -3.  11.  -3.   3.  13. -25. -19.  17. -17. -21. -11.  -3. -13.\n",
      " -17.  13. -13.   5. -35.  -5. -23.   5. -25. -19.  15.  -1.   3. -19.\n",
      "  -1.  -7.  -1.  -7. -23. -19.  -9.  -9. -15.  -7. -11. -13.   9.  -7.\n",
      " -17.  -1. -15.  -3.  -5. -29. -13. -15. -15. -13.  -7.  -7.   7.  11.\n",
      "   7. -11.  -1.  -5.]\n"
     ]
    }
   ],
   "source": [
    "challenge_id = 'myUniqueIdentifier49831221' # identifier for hidden dataset\n",
    "n = 100 # number of entries in hidden dataset\n",
    "num_queries = 2*n # number of queries to be asked\n",
    "\n",
    "queries = np.random.choice([-1,+1], size=(num_queries,n)) # Set of random queries\n",
    "query_results = query(challenge_id, queries)\n",
    "\n",
    "print(query_results)"
   ]
  },
  {
   "cell_type": "markdown",
   "metadata": {
    "id": "uiUoCqxtknZj"
   },
   "source": [
    "# Baseline reconstruction attack: Guess equals the best query\n",
    "\n",
    "Copy the notebook and replace with your attack. The first submission for a given challenge_id is stored on the server and on the leaderboard: http://baconbreaker.pythonanywhere.com/leaderboard/?n=100"
   ]
  },
  {
   "cell_type": "markdown",
   "metadata": {
    "id": "wBzhULS8lfJf"
   },
   "source": [
    "**Tip**: to solve a linear program you can use the following import:\n",
    "\n",
    "```\n",
    "from scipy.optimize import linprog\n",
    "```\n",
    "\n"
   ]
  },
  {
   "cell_type": "code",
   "execution_count": 7,
   "metadata": {
    "colab": {
     "base_uri": "https://localhost:8080/"
    },
    "id": "KNEVYeK5klgu",
    "outputId": "ff3f94ae-591f-45ca-f909-09181cb8ffcc"
   },
   "outputs": [
    {
     "name": "stdout",
     "output_type": "stream",
     "text": [
      "\n",
      "Reconstruction attack achieves fraction 0.65 correct values\n"
     ]
    }
   ],
   "source": [
    "best_query_number = np.argmax(query_results)\n",
    "best_query = queries[best_query_number]\n",
    "best_query_result = query(challenge_id, best_query, submit=True)\n",
    "print(f\"\\nReconstruction attack achieves fraction {(1 + best_query_result / n) / 2} correct values\")"
   ]
  },
  {
   "cell_type": "markdown",
   "metadata": {},
   "source": [
    "## My Attack "
   ]
  },
  {
   "cell_type": "code",
   "execution_count": 3,
   "metadata": {},
   "outputs": [],
   "source": [
    "from scipy.optimize import linprog"
   ]
  },
  {
   "cell_type": "code",
   "execution_count": 5,
   "metadata": {},
   "outputs": [
    {
     "data": {
      "text/plain": [
       "70"
      ]
     },
     "execution_count": 5,
     "metadata": {},
     "output_type": "execute_result"
    }
   ],
   "source": [
    "challenge_id = \"RandomIDorg6\" # identifier for hidden dataset\n",
    "n = 100 # number of entries in hidden dataset\n",
    "t = 2*n # number of queries to be asked\n",
    "\n",
    "queries = np.random.choice([-1,+1], size=(t,n)) # Set of random queries\n",
    "query_results = query(challenge_id, queries)\n",
    "\n",
    "c = np.concatenate([np.zeros(n), np.ones(t)]) # Initializing coefficients of decision variables \n",
    "                                              # Note that we don't directly minimize on our x values\n",
    "\n",
    "A_ub = np.zeros((2*t,t+n)) # Initializing the inequality matrix (Our queries) \n",
    "                           # Rows: 2 times the number of queries because of the absolute value\n",
    "                           # Columns: Because we have 100 decision variables and 200 inequality constrains\n",
    "b_ub = np.zeros(2*t) # Initalizing the inequality constraints(Our query results) \n",
    "                     # 2 times the number of queries because of the absolute value\n",
    "\n",
    "for i in range(t):\n",
    "    # Representing the constraint Ax-t <= b\n",
    "    A_ub[i,:n] = queries[i]#Setting the first 100 column values to A our queries \n",
    "    A_ub[i,(n+i)] = -1 #Activating the t part of our inequality \n",
    "    b_ub[i] = query_results[i] #Activating the b part\n",
    "    \n",
    "    # Representing the constraint -Ax-t <= -b\n",
    "    \n",
    "    A_ub[i+t,:n] = -queries[i] # Same as above but now its -A \n",
    "    A_ub[i+t,(n+i)] = -1 # Same as above still -t\n",
    "    b_ub[i+t] = -query_results[i] # Same as above but now -b \n",
    "\n",
    "bounds = [(-1,1)]*n+[(0,None)]*t\n",
    "    \n",
    "res =linprog(c,A_ub = A_ub, b_ub = b_ub, bounds= bounds )\n",
    "\n",
    "final_res = np.sign(res.x[:100]) # Getting the first 100 values corresponding to our x values \n",
    "                                 # Then taking the sign because we want answers in {-1,1}\n",
    "\n",
    "query(challenge_id, final_res, submit = True)"
   ]
  }
 ],
 "metadata": {
  "colab": {
   "provenance": []
  },
  "kernelspec": {
   "display_name": "Python 3 (ipykernel)",
   "language": "python",
   "name": "python3"
  },
  "language_info": {
   "codemirror_mode": {
    "name": "ipython",
    "version": 3
   },
   "file_extension": ".py",
   "mimetype": "text/x-python",
   "name": "python",
   "nbconvert_exporter": "python",
   "pygments_lexer": "ipython3",
   "version": "3.9.16"
  }
 },
 "nbformat": 4,
 "nbformat_minor": 4
}
